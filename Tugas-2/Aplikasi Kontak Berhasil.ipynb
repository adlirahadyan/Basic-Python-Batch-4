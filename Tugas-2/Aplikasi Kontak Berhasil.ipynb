{
 "cells": [
  {
   "cell_type": "code",
   "execution_count": 8,
   "metadata": {},
   "outputs": [
    {
     "name": "stdout",
     "output_type": "stream",
     "text": [
      "# Menu\n",
      "1. Daftar Kontak\n",
      "2. Tambah Kontak\n",
      "0. Keluar Program\n",
      "Pilih menu : 1\n",
      "Nama : Mbappe\n",
      "Email : kylian.mbappe@gmail.com\n",
      "Telepon : 0852453674580\n",
      "# Menu\n",
      "1. Daftar Kontak\n",
      "2. Tambah Kontak\n",
      "0. Keluar Program\n",
      "Pilih menu : 2\n",
      "Nama : Adli\n",
      "Email : adlihardiyanto@gmail.com\n",
      "Telepon : 081228139718\n",
      "Kontak Berhasil Ditambahkan\n",
      "# Menu\n",
      "1. Daftar Kontak\n",
      "2. Tambah Kontak\n",
      "0. Keluar Program\n",
      "Pilih menu : 0\n",
      "Program selesai\n"
     ]
    }
   ],
   "source": [
    "#Program Manajemen Kontak\n",
    "def display_kontak(daftar_kontak):\n",
    "    for kontak in daftar_kontak:\n",
    "        print(f\"Nama : {kontak['nama']}\")\n",
    "        print(f\"Email : {kontak['email']}\")\n",
    "        print(f\"Telepon : {kontak['telepon']}\")\n",
    "        \n",
    "def new_kontak(nama, email, telepon):\n",
    "    new_kontak = {\"nama\" == nama, \"email\" == email, \"telepon\" == telepon}\n",
    "    daftar_kontak.append(new_kontak)\n",
    "    \n",
    "#List Of Dictionary\n",
    "daftar_kontak = []\n",
    "daftar_kontak.append({\"nama\" : \"Mbappe\", \"email\" : \"kylian.mbappe@gmail.com\", \"telepon\" : \"0852453674580\"})\n",
    "\n",
    "#Menu Program\n",
    "while True :\n",
    "    print(\"# Menu\")\n",
    "    print(\"1. Daftar Kontak\")\n",
    "    print(\"2. Tambah Kontak\")\n",
    "    print(\"0. Keluar Program\")\n",
    "\n",
    "    menu = input(\"Pilih menu : \")\n",
    "\n",
    "    if menu == \"0\" :\n",
    "        break\n",
    "    elif menu == \"1\" :\n",
    "        display_kontak(daftar_kontak)\n",
    "    elif menu == \"2\" :\n",
    "            nama = input(\"Nama : \")\n",
    "            email = input(\"Email : \")\n",
    "            telepon = input(\"Telepon : \")\n",
    "            print(\"Kontak Berhasil Ditambahkan\")\n",
    " \n",
    "print(\"Program selesai\")"
   ]
  },
  {
   "cell_type": "code",
   "execution_count": null,
   "metadata": {},
   "outputs": [],
   "source": []
  },
  {
   "cell_type": "code",
   "execution_count": null,
   "metadata": {},
   "outputs": [],
   "source": []
  }
 ],
 "metadata": {
  "kernelspec": {
   "display_name": "Python 3",
   "language": "python",
   "name": "python3"
  }
 },
 "nbformat": 4,
 "nbformat_minor": 4
}
