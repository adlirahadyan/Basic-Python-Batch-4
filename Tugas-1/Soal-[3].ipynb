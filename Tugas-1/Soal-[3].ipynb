{
 "cells": [
  {
   "cell_type": "code",
   "execution_count": 9,
   "metadata": {},
   "outputs": [
    {
     "name": "stdout",
     "output_type": "stream",
     "text": [
      "Nilai praktek: 60\n",
      "Nilai teori: 70\n",
      "Anda harus mengulang ujian praktek\n"
     ]
    }
   ],
   "source": [
    "x = int(input(\"Nilai praktek: \"))\n",
    "y = int(input(\"Nilai teori: \"))\n",
    "\n",
    "if x >= 70 and y >= 70:\n",
    "   print(\"Selamat, anda lulus!\")\n",
    "elif x <= 70 and y >= 70:\n",
    "   print(\"Anda harus mengulang ujian praktek\")\n",
    "elif x >= 70 and y <= 70:\n",
    "   print(\"Anda harus mengulang ujian teori\")\n",
    "else:\n",
    "   print(\"Anda harus mengulang ujian teori & praktek\")\n"
   ]
  }
 ],
 "metadata": {
  "kernelspec": {
   "display_name": "Python 3",
   "language": "python",
   "name": "python3"
  },
  "language_info": {
   "codemirror_mode": {
    "name": "ipython",
    "version": 3
   },
   "file_extension": ".py",
   "mimetype": "text/x-python",
   "name": "python",
   "nbconvert_exporter": "python",
   "pygments_lexer": "ipython3",
   "version": "3.8.5"
  }
 },
 "nbformat": 4,
 "nbformat_minor": 4
}
