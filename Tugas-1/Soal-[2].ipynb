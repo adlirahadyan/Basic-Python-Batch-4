{
 "cells": [
  {
   "cell_type": "code",
   "execution_count": 12,
   "metadata": {},
   "outputs": [
    {
     "name": "stdout",
     "output_type": "stream",
     "text": [
      "Enter the radius of the circles: 8\n",
      "Luas Lingkaran dengan jari-jari 8 cm adalah 201.14 cm².\n"
     ]
    }
   ],
   "source": [
    "CONSTANT_PI = 22/7\n",
    "r = int(input(\"Enter the radius of the circles: \"))\n",
    "area = CONSTANT_PI * r**2\n",
    "\n",
    "print(\"Luas Lingkaran dengan jari-jari {} cm adalah {:.2f} cm\\u00B2.\".format(r, area))"
   ]
  }
 ],
 "metadata": {
  "kernelspec": {
   "display_name": "Python 3",
   "language": "python",
   "name": "python3"
  },
  "language_info": {
   "codemirror_mode": {
    "name": "ipython",
    "version": 3
   },
   "file_extension": ".py",
   "mimetype": "text/x-python",
   "name": "python",
   "nbconvert_exporter": "python",
   "pygments_lexer": "ipython3",
   "version": "3.8.5"
  }
 },
 "nbformat": 4,
 "nbformat_minor": 4
}
