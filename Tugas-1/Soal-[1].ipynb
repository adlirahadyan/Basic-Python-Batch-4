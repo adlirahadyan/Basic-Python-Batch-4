{
 "cells": [
  {
   "cell_type": "code",
   "execution_count": 2,
   "metadata": {},
   "outputs": [
    {
     "name": "stdout",
     "output_type": "stream",
     "text": [
      "Nama saya Adli Rahadyan, umur saya 25 tahun dan tinggi saya 170.5 cm.\n"
     ]
    }
   ],
   "source": [
    "Nama = ' Adli Rahadyan'\n",
    "Umur = 25 \n",
    "Tinggi = 170.5\n",
    "\n",
    "print(f'Nama saya{Nama}, umur saya {Umur} tahun dan tinggi saya {Tinggi} cm.')"
   ]
  }
 ],
 "metadata": {
  "kernelspec": {
   "display_name": "Python 3",
   "language": "python",
   "name": "python3"
  },
  "language_info": {
   "codemirror_mode": {
    "name": "ipython",
    "version": 3
   },
   "file_extension": ".py",
   "mimetype": "text/x-python",
   "name": "python",
   "nbconvert_exporter": "python",
   "pygments_lexer": "ipython3",
   "version": "3.8.5"
  }
 },
 "nbformat": 4,
 "nbformat_minor": 4
}
